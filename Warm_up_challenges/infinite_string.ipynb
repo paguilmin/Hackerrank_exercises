{
 "cells": [
  {
   "cell_type": "markdown",
   "metadata": {},
   "source": [
    "Lilah has a string, *s*, of lowercase English letters that she repeated infinitely many times.\n",
    "Given an integer, *n*, find and print the number of letter a's in the first *n* letters of Lilah's infinite string.\n",
    "For example, if the string *s='abcac'* and *n=10*, the substring we consider is *abcacabcac* , the 10 first  characters of her infinite string. There are 4 occurrences of a in the substring.\n",
    "\n",
    "\n",
    "**Function Description**\n",
    "Complete the repeatedString function in the editor below. It should return an integer representing the number of occurrences of a in the prefix of length *n* in the infinitely repeating string.\n",
    "jumpingOnClouds has the following parameter(s):\n",
    "- s: a string to repeat\n",
    "- n: the number of characters to consider\n",
    "\n",
    "\n",
    "**Input Format**\n",
    "The first line contains a single string *s* \n",
    "The second line contains an integer *n*.\n",
    "\n",
    "**Constraints**\n",
    "- 1 <= |s| <= 100\n",
    "- 1 <= n <= 10^12\n",
    "- for 25% of the test cases, n<=10^6\n",
    "\n",
    "**Output Format**\n",
    "Print a single integer denoting the number of letter a's in the first *n* letters of the infinite string created by repeating *s* infinitely many times."
   ]
  },
  {
   "cell_type": "code",
   "execution_count": 16,
   "metadata": {},
   "outputs": [],
   "source": [
    "\n",
    "import math\n",
    "import os\n",
    "import random\n",
    "import re\n",
    "import sys\n",
    "\n",
    "# Complete the repeatedString function below.\n",
    "def repeatedString(s, n):\n",
    "    nb_a =s.count('a')\n",
    "    nb_a = (n//len(s))*nb_a + s[0:n%len(s)].count('a')\n",
    "    return(nb_a)"
   ]
  },
  {
   "cell_type": "code",
   "execution_count": 18,
   "metadata": {},
   "outputs": [
    {
     "data": {
      "text/plain": [
       "1000000000000"
      ]
     },
     "execution_count": 18,
     "metadata": {},
     "output_type": "execute_result"
    }
   ],
   "source": [
    "repeatedString('a', 1000000000000)"
   ]
  },
  {
   "cell_type": "code",
   "execution_count": null,
   "metadata": {},
   "outputs": [],
   "source": [
    "'abaabaabaa'"
   ]
  },
  {
   "cell_type": "code",
   "execution_count": 5,
   "metadata": {},
   "outputs": [
    {
     "data": {
      "text/plain": [
       "4"
      ]
     },
     "execution_count": 5,
     "metadata": {},
     "output_type": "execute_result"
    }
   ],
   "source": [
    "'abcaaa'.count('a')"
   ]
  },
  {
   "cell_type": "code",
   "execution_count": 15,
   "metadata": {},
   "outputs": [
    {
     "data": {
      "text/plain": [
       "4"
      ]
     },
     "execution_count": 15,
     "metadata": {},
     "output_type": "execute_result"
    }
   ],
   "source": [
    "(10**10)%6"
   ]
  },
  {
   "cell_type": "code",
   "execution_count": 11,
   "metadata": {},
   "outputs": [],
   "source": [
    "s_i= (10^10)*'abcaaa'"
   ]
  },
  {
   "cell_type": "code",
   "execution_count": 12,
   "metadata": {},
   "outputs": [
    {
     "data": {
      "text/plain": [
       "''"
      ]
     },
     "execution_count": 12,
     "metadata": {},
     "output_type": "execute_result"
    }
   ],
   "source": [
    "s_i"
   ]
  },
  {
   "cell_type": "code",
   "execution_count": null,
   "metadata": {},
   "outputs": [],
   "source": []
  }
 ],
 "metadata": {
  "kernelspec": {
   "display_name": "Python 3",
   "language": "python",
   "name": "python3"
  },
  "language_info": {
   "codemirror_mode": {
    "name": "ipython",
    "version": 3
   },
   "file_extension": ".py",
   "mimetype": "text/x-python",
   "name": "python",
   "nbconvert_exporter": "python",
   "pygments_lexer": "ipython3",
   "version": "3.7.1"
  }
 },
 "nbformat": 4,
 "nbformat_minor": 2
}
