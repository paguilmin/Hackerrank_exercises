{
 "cells": [
  {
   "cell_type": "markdown",
   "metadata": {},
   "source": [
    "Gary is an avid hiker. He tracks his hikes meticulously, paying close attention to small details like topography. During his last hike he took exactly *n* steps. For every step he took, he noted if it was an uphill,  *U*, or a downhill, *D* step. Gary's hikes start and end at sea level and each step up or down represents a 1 unit change in altitude. We define the following terms:\n",
    "- A mountain is a sequence of consecutive steps above sea level, starting with a step up from sea level and ending with a step down to sea level.\n",
    "- A valley is a sequence of consecutive steps below sea level, starting with a step down from sea level and ending with a step up to sea level.\n",
    "Given Gary's sequence of up and down steps during his last hike, find and print the number of valleys he walked through.\n",
    "For example, if Gary's path is *s=[DDUUUUDD]*, he first enters a valley 2 units deep. Then he climbs out an up onto a mountain 2 units high. Finally, he returns to sea level and ends his hike.  \n",
    "\n",
    "**Function Description**\n",
    "Complete the countingValleys function in the editor below. It must return an integer that denotes the number of valleys Gary traversed. \n",
    "countingValleys has the following parameter(s):\n",
    "- n: the number of steps Gary takes\n",
    "- s: a string describing his path\n",
    "\n",
    "**Input Format**\n",
    "The first line contains an integer *n*, the number of steps in Gary's hike. \n",
    "The second line contains a single string *s*, of *n* characters that describe his path.\n",
    "\n",
    "**Constraints**\n",
    "- 2 <= *n* <= 10^6\n",
    "- *s*[i] in {UD}\n",
    "\n",
    "**Output Format**\n",
    "Print a single integer that denotes the number of valleys Gary walked through during his hike."
   ]
  },
  {
   "cell_type": "code",
   "execution_count": null,
   "metadata": {},
   "outputs": [],
   "source": [
    "import math\n",
    "import os\n",
    "import random\n",
    "import re\n",
    "import sys\n",
    "\n",
    "# Complete the countingValleys function below.\n",
    "def countingValleys(n, s):\n",
    "    counter = 0 \n",
    "    for x in s : \n",
    "        if x=='D' :\n",
    "            counter-=1\n",
    "        elif x=='U':\n",
    "            counter+=1\n",
    "    print(counter)\n"
   ]
  },
  {
   "cell_type": "code",
   "execution_count": 1,
   "metadata": {},
   "outputs": [],
   "source": [
    "s='UDDDUDUU'"
   ]
  },
  {
   "cell_type": "code",
   "execution_count": 67,
   "metadata": {},
   "outputs": [],
   "source": [
    "def countingValleys(n, s):\n",
    "    level = 0 \n",
    "    in_valley = 1\n",
    "\n",
    "    result = 0\n",
    "    for x in s : \n",
    "        if x=='D' :\n",
    "            level -= 1\n",
    "        elif x=='U':\n",
    "            level += 1\n",
    "        print(level)\n",
    "        if level > 0 :\n",
    "            in_valley= 0\n",
    "        elif level <0 :\n",
    "            in_valley= 1\n",
    "        if in_valley == 1 and level==0 : \n",
    "            result+=1\n",
    "        #print(in_valley)\n",
    "        #print('--------')\n",
    "    return(result)"
   ]
  },
  {
   "cell_type": "code",
   "execution_count": 70,
   "metadata": {},
   "outputs": [],
   "source": [
    "def countingValleys(n, s):\n",
    "    level = 0 \n",
    "    result = 0\n",
    "    for i in range(n) : \n",
    "        if s[i]=='U' :\n",
    "            level += 1\n",
    "            if level == 0 : \n",
    "                result += 1\n",
    "        else :\n",
    "            level -= 1\n",
    "    return(result)"
   ]
  },
  {
   "cell_type": "code",
   "execution_count": 73,
   "metadata": {},
   "outputs": [
    {
     "name": "stdin",
     "output_type": "stream",
     "text": [
      " 8\n",
      " UDDDUDUU\n"
     ]
    }
   ],
   "source": [
    "n = int(input())\n",
    "s = input()"
   ]
  },
  {
   "cell_type": "code",
   "execution_count": 71,
   "metadata": {},
   "outputs": [
    {
     "data": {
      "text/plain": [
       "'DDUUUUDD'"
      ]
     },
     "execution_count": 71,
     "metadata": {},
     "output_type": "execute_result"
    }
   ],
   "source": [
    "s"
   ]
  },
  {
   "cell_type": "code",
   "execution_count": 74,
   "metadata": {},
   "outputs": [
    {
     "data": {
      "text/plain": [
       "1"
      ]
     },
     "execution_count": 74,
     "metadata": {},
     "output_type": "execute_result"
    }
   ],
   "source": [
    "countingValleys(n, s)"
   ]
  },
  {
   "cell_type": "code",
   "execution_count": null,
   "metadata": {},
   "outputs": [],
   "source": []
  }
 ],
 "metadata": {
  "kernelspec": {
   "display_name": "Python 3",
   "language": "python",
   "name": "python3"
  },
  "language_info": {
   "codemirror_mode": {
    "name": "ipython",
    "version": 3
   },
   "file_extension": ".py",
   "mimetype": "text/x-python",
   "name": "python",
   "nbconvert_exporter": "python",
   "pygments_lexer": "ipython3",
   "version": "3.7.1"
  }
 },
 "nbformat": 4,
 "nbformat_minor": 2
}
