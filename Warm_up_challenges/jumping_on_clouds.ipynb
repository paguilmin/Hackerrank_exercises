{
 "cells": [
  {
   "cell_type": "markdown",
   "metadata": {},
   "source": [
    "Emma is playing a new mobile game that starts with consecutively numbered clouds. Some of the clouds are thunderheads and others are cumulus. She can jump on any cumulus cloud having a number that is equal to the number of the current cloud plus 1 or 2. She must avoid the thunderheads. Determine the minimum number of jumps it will take Emma to jump from her starting postion to the last cloud. It is always possible to win the game.\n",
    "\n",
    "For each game, Emma will get an array of clouds numbered 0 if they are safe or 1 if they must be avoided. For example *c=[0,1,0,0,0,1,0],  indexed from 0 ...6. The number on each cloud is its index in the list so she must avoid the clouds at indexes 1 and 5. She could follow the following two paths: 0 -> 2 -> 4 -> 6  or 0 -> 2 -> 3 -> 4 -> 6. The first path takes  3 jumps while the second takes 4 .\n",
    "\n",
    "**Function Description**\n",
    "Complete the jumpingOnClouds function in the editor below. It should return the minimum number of jumps required, as an integer.\n",
    "jumpingOnClouds has the following parameter(s):\n",
    "- c: an array of binary integers\n",
    "\n",
    "\n",
    "**Input Format**\n",
    "The first line contains an integer *n* , the total number of clouds. \n",
    "The second line contains *n* space-separated binary integers describing clouds c[i] where 0 <=i < n.\n",
    "\n",
    "**Constraints**\n",
    "- 2 <= n <= 100\n",
    "- c[i] in {0,1}\n",
    "- c[0]=c[n-1]=0\n",
    "\n",
    "**Output Format**\n",
    "Print the minimum number of jumps needed to win the game."
   ]
  },
  {
   "cell_type": "code",
   "execution_count": 35,
   "metadata": {},
   "outputs": [],
   "source": [
    "import math\n",
    "import os\n",
    "import random\n",
    "import re\n",
    "import sys\n",
    "\n",
    "\n",
    "def jumpingOnClouds(c):\n",
    "    i = 0\n",
    "    jump = 0\n",
    "    while i < len(c)-1:\n",
    "        if i == len(c)-2 :\n",
    "            i += 1\n",
    "        else :\n",
    "            if c[i+2]!= 1 & (i+2 < len(c)):\n",
    "                print('+2')\n",
    "                i += 2\n",
    "            else : \n",
    "                i += 1\n",
    "        jump += 1 \n",
    "    return(jump)"
   ]
  },
  {
   "cell_type": "code",
   "execution_count": 38,
   "metadata": {},
   "outputs": [
    {
     "name": "stdout",
     "output_type": "stream",
     "text": [
      "+2\n",
      "+2\n"
     ]
    },
    {
     "data": {
      "text/plain": [
       "4"
      ]
     },
     "execution_count": 38,
     "metadata": {},
     "output_type": "execute_result"
    }
   ],
   "source": [
    "c = [0,0,1,0,0,1,0]\n",
    "jumpingOnClouds(c)"
   ]
  },
  {
   "cell_type": "code",
   "execution_count": null,
   "metadata": {},
   "outputs": [],
   "source": [
    "#[0,1,0,0,0,1,0],\n",
    "len(c) = 7\n",
    "\n",
    "i=0\n",
    "c[2] !=1 & 2 < 7 => i=2, jump = 1\n",
    "\n",
    "i=2\n",
    "c[4] !=1 & 4 < 7 => i=4, jump = 2\n",
    "\n",
    "i=4\n",
    "c[6] != & 6 < 7 => i=6, jump = 3\n",
    "\n"
   ]
  },
  {
   "cell_type": "code",
   "execution_count": 2,
   "metadata": {},
   "outputs": [
    {
     "ename": "SyntaxError",
     "evalue": "invalid syntax (<ipython-input-2-65de7f7fd932>, line 6)",
     "output_type": "error",
     "traceback": [
      "\u001b[0;36m  File \u001b[0;32m\"<ipython-input-2-65de7f7fd932>\"\u001b[0;36m, line \u001b[0;32m6\u001b[0m\n\u001b[0;31m    c[2] ==1  => i=1, jump = 1\u001b[0m\n\u001b[0m               ^\u001b[0m\n\u001b[0;31mSyntaxError\u001b[0m\u001b[0;31m:\u001b[0m invalid syntax\n"
     ]
    }
   ],
   "source": [
    "\n",
    "#[0 0 1 0 0 1 0]\n",
    "len(c) = 7\n",
    "\n",
    "i=0\n",
    "c[2] ==1  => i=1, jump = 1\n",
    "\n",
    "i=1\n",
    "c[3] !=1 & 3 < 7 => i=3, jump = 2\n",
    "\n",
    "i=3\n",
    "c[5] == 1 => i=4, jump = 3\n",
    "\n",
    "i=4\n",
    "c[6] != 1 & 6 < 7 => i=6 , jump = 4\n"
   ]
  },
  {
   "cell_type": "code",
   "execution_count": null,
   "metadata": {},
   "outputs": [],
   "source": [
    "# 0 0 0 0 1 0\n",
    "\n",
    "len(c) = 6\n",
    "\n",
    "i=0\n",
    "c[2] !=1  & 2 < 6 => i=2, jump = 1\n",
    "\n",
    "i=2\n",
    "c[4] ==1 => i=3, jump = 2\n",
    "\n",
    "i=3\n",
    "c[5] != 1 & 5 < 6 => i=5, jump = 3"
   ]
  }
 ],
 "metadata": {
  "kernelspec": {
   "display_name": "Python 3",
   "language": "python",
   "name": "python3"
  },
  "language_info": {
   "codemirror_mode": {
    "name": "ipython",
    "version": 3
   },
   "file_extension": ".py",
   "mimetype": "text/x-python",
   "name": "python",
   "nbconvert_exporter": "python",
   "pygments_lexer": "ipython3",
   "version": "3.7.1"
  }
 },
 "nbformat": 4,
 "nbformat_minor": 2
}
